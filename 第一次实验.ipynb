{
 "cells": [
  {
   "cell_type": "code",
   "execution_count": 1,
   "id": "f6db74d6-11ab-48f5-aebb-5f9c493a8146",
   "metadata": {},
   "outputs": [
    {
     "name": "stdout",
     "output_type": "stream",
     "text": [
      "hello,python\n",
      "__________________________________________________\n",
      "加： 6\n",
      "减： 2\n",
      "乘： 9\n",
      "除： 1.0\n",
      "整除： 1\n",
      "余数： 1\n",
      "幂： 27\n",
      "2\n"
     ]
    },
    {
     "data": {
      "text/plain": [
       "2"
      ]
     },
     "execution_count": 1,
     "metadata": {},
     "output_type": "execute_result"
    }
   ],
   "source": [
    "print('hello,python')#hello语句\n",
    "print(\"_\"*50)#分割线\n",
    "\n",
    "#打印简单的运算\n",
    "print(\"加：\",3+3) \n",
    "print(\"减：\",3-1)\n",
    "print(\"乘：\",3*3)\n",
    "print(\"除：\", 3/3)\n",
    "print(\"整除：\", 3//2)\n",
    "print(\"余数：\", 3%2)\n",
    "print(\"幂：\",3**3)#3次方\n",
    "print(1+1)\n",
    "1+1"
   ]
  },
  {
   "cell_type": "code",
   "execution_count": 2,
   "id": "86814d87-f6fa-48df-a936-a8d5b5de0af5",
   "metadata": {},
   "outputs": [
    {
     "name": "stdout",
     "output_type": "stream",
     "text": [
      "<class 'int'>\n",
      "<class 'str'>\n",
      "<class 'float'>\n",
      "<class 'bool'>\n",
      "<class 'tuple'>\n",
      "<class 'list'>\n",
      "<class 'dict'>\n",
      "11\n"
     ]
    }
   ],
   "source": [
    "#先定义变量，再使用\n",
    "a=10\n",
    "print(type(a))#有符号整数\n",
    "a='xiaowu'\n",
    "print(type(a))#字符串\n",
    "a=12.45\n",
    "print(type(a))#小数\n",
    "a=True\n",
    "print(type(a))#布尔运算，逻辑\n",
    "a=()#元组类型tuple\n",
    "print(type(a))\n",
    "b=[]#列表类型list\n",
    "print(type(b))\n",
    "c={}#字典类型dict\n",
    "print(type(c))\n",
    "#变量命名规则\n",
    "#必须以字母或下划线_(英文shift+-)开头，不能以数字开头\n",
    "#其他字符可以是字母，数字或_\n",
    "#区分大小写，python关键字不能用作变量名】\n",
    "x=5\n",
    "func=2*x+1\n",
    "print(func)"
   ]
  },
  {
   "cell_type": "code",
   "execution_count": 3,
   "id": "9d368e33-9a77-47c1-b560-829e388f8927",
   "metadata": {},
   "outputs": [
    {
     "name": "stdout",
     "output_type": "stream",
     "text": [
      "7\n",
      "['c', 'd', 'e']\n",
      "['b', 'c', 'd']\n",
      "['a', 'b', 'c', 'd', 'e', 'f', 'g']\n",
      "f\n",
      "['a', 'b', 'c', 'd', 'e', 'f', 2020]\n",
      "2020\n",
      "letters'a'is in the list\n"
     ]
    }
   ],
   "source": [
    "#list\n",
    "letters=['a','b','c','d','e','f','g']#创建列表，按字母顺序\n",
    "print(len(letters))#打印列表长度\n",
    "print(letters[2:5]) #从0开始数，打印2到5，但不包括5，用分号隔开\n",
    "print(letters[1:4])\n",
    "print(letters)#打印整个列表\n",
    "print(letters[5])#开始数，打印第五个\n",
    "letters[-1]=2020\n",
    "print(letters)\n",
    "print(letters[-1])\n",
    "if'a'in letters:\n",
    "    print(\"letters'a'is in the list\")#如果a在这里面，打印这句话"
   ]
  },
  {
   "cell_type": "code",
   "execution_count": 4,
   "id": "dc3ffa65-7e24-49d2-adee-bbafefed80a0",
   "metadata": {},
   "outputs": [
    {
     "name": "stdout",
     "output_type": "stream",
     "text": [
      "['a', 'b', 'c', 'd', 'e', 'f', 'g', 'h', 'i', 'j', 'k', 'l', 'm', 'n', 'o', 'p', 'q', 'r', 's', 't', 'u', 'v', 'w', 'x', 'y', 'z']\n",
      "[1:2]->['b', 'c']\n",
      "[-4:-1]->['w', 'x', 'y']\n",
      "[-3:]->['x', 'y', 'z']\n",
      "[:3]->['a', 'b', 'c']\n",
      "[:]->['a', 'b', 'c', 'd', 'e', 'f', 'g', 'h', 'i', 'j', 'k', 'l', 'm', 'n', 'o', 'p', 'q', 'r', 's', 't', 'u', 'v', 'w', 'x', 'y', 'z']\n",
      "__________________________________________________\n",
      "[0:10:2]->['a', 'c', 'e', 'g', 'i']\n"
     ]
    }
   ],
   "source": [
    "#list分片\n",
    "lst_s=list(map(chr,range(97,123)))\n",
    "#map会根据给的函数映射，97到123为26个英文字母\n",
    "#chr() 用一个范围在 range（256）内的（就是0～255）整数作参数，返回一个对应的字符。\n",
    "print(lst_s)#打印26个字母\n",
    "print(\"[1:2]->{}\".format(lst_s[1:3]))\n",
    "print(\"[-4:-1]->{}\".format(lst_s[-4:-1]))#倒数第一个到倒数第四个\n",
    "print(\"[-3:]->{}\".format(lst_s[-3:]))#打印倒数三个\n",
    "print(\"[:3]->{}\".format(lst_s[:3]))#打印正数三个\n",
    "print(\"[:]->{}\".format(lst_s[:]))#打印全部字母\n",
    "print(\"_\"*50)\n",
    "print(\"[0:10:2]->{}\".format(lst_s[0:10:2]))#lst-s[a：b,s]a：b为索引，s为步长"
   ]
  },
  {
   "cell_type": "code",
   "execution_count": 5,
   "id": "ed51fb52-491c-4d65-9459-9404c3b1877b",
   "metadata": {},
   "outputs": [
    {
     "name": "stdout",
     "output_type": "stream",
     "text": [
      "tuple_1=2,3,5,->(2, 3, 5)\n",
      "3*(20*3,)->(60, 60, 60)\n",
      "tuple((5,8,9))->(5, 8, 9)\n",
      "tuple([5,8,9])->(5, 8, 9)\n"
     ]
    }
   ],
   "source": [
    "#元组，不能更改，\n",
    "tuple_1=2,3,5,\n",
    "print(\"tuple_1=2,3,5,->{}\".format(tuple_1))\n",
    "print(\"3*(20*3,)->{}\".format(3*(20*3,)))\n",
    "print(\"tuple((5,8,9))->{}\".format(tuple((5,8,9)))) #用()\n",
    "print(\"tuple([5,8,9])->{}\".format(tuple([5,8,9]))) #用[]"
   ]
  },
  {
   "cell_type": "code",
   "execution_count": 6,
   "id": "abb46499-391d-471c-a962-c7b11dbb943c",
   "metadata": {},
   "outputs": [
    {
     "name": "stdout",
     "output_type": "stream",
     "text": [
      "items->[(0, [0, 1, 2, 3, 4]), (1, [[5, 4, 19, 8, 11]]), (2, 'python')]\n",
      "dic=dict(items)->{0: [0, 1, 2, 3, 4], 1: [[5, 4, 19, 8, 11]], 2: 'python'}\n",
      "dic[1]->[[5, 4, 19, 8, 11]]\n"
     ]
    }
   ],
   "source": [
    "#字典\n",
    "#dictionary={k=0:v=0,k=1:v_1,k=2:v_2...}\n",
    "import random\n",
    "items=[(0,[i for i in range(5)]),(1,[random.sample(list(range(1,20,1)),5)]),(2,'python')] #[i for i in range(5)] 为列表推导式 list comprehension/derivation\n",
    "#5为打印个数\n",
    "print(\"items->{}\".format(items))\n",
    "dic=dict(items)\n",
    "print(\"dic=dict(items)->{}\".format(dic))\n",
    "print(\"dic[1]->{}\".format(dic[1]))\n"
   ]
  },
  {
   "cell_type": "code",
   "execution_count": 7,
   "id": "a724e543-85db-416a-9e3d-0b8b5c010819",
   "metadata": {},
   "outputs": [
    {
     "name": "stdout",
     "output_type": "stream",
     "text": [
      "lst_A=[1, 4, 7],lst_B=[11, 16]\n",
      "dic_2={0: [1, 4, 7], 1: [11, 16]}\n",
      "__________________________________________________\n",
      "dic_assignment={0: [1, 4, 7], 1: [11, 16]}\n"
     ]
    }
   ],
   "source": [
    "lst_A=list(range(1,10,3))\n",
    "lst_B=list(range(11,20,5))\n",
    "print(\"lst_A={},lst_B={}\".format(lst_A,lst_B))\n",
    "dic_2={0:lst_A,1:lst_B}\n",
    "print(\"dic_2={}\".format(dic_2))\n",
    "print(\"_\"*50)\n",
    "dic_assignment=dic_2\n",
    "print(\"dic_assignment={}\".format(dic_assignment))#连续嵌套"
   ]
  },
  {
   "cell_type": "code",
   "execution_count": 11,
   "id": "2da342c3-fd8b-4737-b68a-076556faa30a",
   "metadata": {},
   "outputs": [
    {
     "name": "stdout",
     "output_type": "stream",
     "text": [
      "dic_2.clear()->{}\n",
      "dic_assignment={}\n",
      "dic_2[5]=list(range(1,9,2))->{5: [1, 3, 5, 7, 9]}\n",
      "dic_copy=dic_2.copy()->{5: [1, 3, 5, 7, 9]}\n",
      "dic_2[8]=[5,7]->{5: [1, 3, 5, 7, 9], 8: [5, 7]}\n",
      "dic_copy={5: [1, 3, 5, 7, 9]}\n",
      "dic_copy[5].remove(5)->{5: [1, 3, 7, 9]}\n",
      "dic_copy.setdefault(6,[10,20])->{5: [1, 3, 7, 9], 6: [10, 20]}\n"
     ]
    }
   ],
   "source": [
    "dic_2.clear()\n",
    "print(\"dic_2.clear()->{}\".format(dic_2))\n",
    "print(\"dic_assignment={}\".format(dic_assignment))\n",
    "dic_2[5]=list(range(1,10,2))\n",
    "print(\"dic_2[5]=list(range(1,9,2))->{}\".format(dic_2))\n",
    "dic_copy=dic_2.copy()\n",
    "print(\"dic_copy=dic_2.copy()->{}\".format(dic_copy))\n",
    "dic_2[8]=[5,7]\n",
    "print(\"dic_2[8]=[5,7]->{}\".format(dic_2))\n",
    "print(\"dic_copy={}\".format(dic_copy))\n",
    "dic_copy[5].remove(5)#删除值不在区间内就会报错\n",
    "print(\"dic_copy[5].remove(5)->{}\".format(dic_copy))\n",
    "dic_copy.setdefault(6,[10,20]) #返回指定键的值，如果不存在该键，则字典增加新的键/值对\n",
    "print(\"dic_copy.setdefault(6,[10,20])->{}\".format(dic_copy))\n"
   ]
  },
  {
   "cell_type": "code",
   "execution_count": 12,
   "id": "d5387344-dcc0-42b4-a2b4-23ad2dcd5f7b",
   "metadata": {},
   "outputs": [
    {
     "name": "stdout",
     "output_type": "stream",
     "text": [
      "new_str=format_str % values->方案,做不完了!\n",
      "__________________________________________________\n",
      "lst_s_3=list(\"Hello Python!\")->['H', 'e', 'l', 'l', 'o', ' ', 'P', 'y', 't', 'h', 'o', 'n', '!']\n",
      "a=list(\"方案做不完了\")->['方', '案', '做', '不', '完', '了']\n",
      "__________________________________________________\n"
     ]
    }
   ],
   "source": [
    "#string，格式化字符串\n",
    "format_str=\"方案,%s%s!\"#%（转换符）s（类型），%d等\n",
    "values=(\"做不\",\"完了\")\n",
    "new_str=format_str % values\n",
    "print(\"new_str=format_str % values->{}\".format(new_str))\n",
    "print(\"_\"*50)\n",
    "\n",
    "lst_s_3=list(\"Hello Python!\")\n",
    "a=list(\"方案做不完了\")\n",
    "print(\"lst_s_3=list(\\\"Hello Python!\\\")->{}\".format(lst_s_3)) #\"\\\" 逐个分开字符串\n",
    "print(\"a=list(\\\"方案做不完了\\\")->{}\".format(a))\n",
    "print(\"_\"*50)"
   ]
  },
  {
   "cell_type": "code",
   "execution_count": 13,
   "id": "e7b411c8-63e4-4d6e-bbed-cf408dbfc842",
   "metadata": {},
   "outputs": [
    {
     "name": "stdin",
     "output_type": "stream",
     "text": [
      "请出拳[1:石头,2:剪刀,3:布] 2\n"
     ]
    },
    {
     "name": "stdout",
     "output_type": "stream",
     "text": [
      "you lose\n"
     ]
    }
   ],
   "source": [
    "#条件语句\n",
    "#石头剪刀布游戏\n",
    "import random#直接导入产生随机数模块\n",
    "person=int(input('请出拳[1:石头,2:剪刀,3:布]'))\n",
    "computer=random.randint(1,3)#表示在1，3之间随机生成数字\n",
    "if person==1 and computer==2:\n",
    "    print('you win')\n",
    "    pass\n",
    "elif person==2 and computer==3:\n",
    "    print('you win')\n",
    "    pass\n",
    "elif person==3 and computer==1:\n",
    "    print('you win')\n",
    "    pass\n",
    "elif person==computer:\n",
    "    print('tie')\n",
    "    pass\n",
    "else:\n",
    "    print('you lose')\n",
    "\n"
   ]
  },
  {
   "cell_type": "code",
   "execution_count": 14,
   "id": "89791058-fedc-4671-84e6-23252b7d715f",
   "metadata": {},
   "outputs": [
    {
     "name": "stdin",
     "output_type": "stream",
     "text": [
      "请输入你的分数... 59\n"
     ]
    },
    {
     "name": "stdout",
     "output_type": "stream",
     "text": [
      "分数不及格\n",
      "__________________________________________________\n"
     ]
    }
   ],
   "source": [
    "#分数小游戏\n",
    "x=int(input('请输入你的分数...'))#int为强制转化为数字类型，input为输入语句\n",
    "if x>60:\n",
    "    print('分数达标')\n",
    "    pass#填空的语句\n",
    "elif 0<x<=59:\n",
    "    print('分数不及格')\n",
    "    pass\n",
    "else:\n",
    "    print('分数及格啦')\n",
    "print(\"_\"*50) \n"
   ]
  },
  {
   "cell_type": "code",
   "execution_count": 15,
   "id": "a93bbe6a-0d51-40d3-8d53-9e0b120bd0fd",
   "metadata": {},
   "outputs": [
    {
     "name": "stdin",
     "output_type": "stream",
     "text": [
      "你的方案做完了吗？[1:做完了,2:没有] 1\n",
      "模型做完了吗?[1:做完了，2:没有] 2\n"
     ]
    },
    {
     "name": "stdout",
     "output_type": "stream",
     "text": [
      "快去做模型...\n",
      "__________________________________________________\n"
     ]
    }
   ],
   "source": [
    "#if,else的嵌套\n",
    "items=int(input('你的方案做完了吗？[1:做完了,2:没有]'))\n",
    "if items==1:\n",
    "    b_=int(input('模型做完了吗?[1:做完了，2:没有]'))\n",
    "    if b_==1:\n",
    "        print('你可以休息了...')\n",
    "        pass\n",
    "    else:\n",
    "        print('快去做模型...')\n",
    "        pass\n",
    "    pass\n",
    "else:\n",
    "    print('快去做方案，还玩电脑！')\n",
    "print(\"_\"*50) \n"
   ]
  },
  {
   "cell_type": "code",
   "execution_count": 16,
   "id": "7d391ee5-f5b3-441a-ad85-3fb75d0328b1",
   "metadata": {},
   "outputs": [
    {
     "name": "stdout",
     "output_type": "stream",
     "text": [
      "x=0\n",
      "x=20\n",
      "x=40\n",
      "x=60\n",
      "x=80\n",
      "x=100\n",
      "__________________________________________________\n",
      "x=0\n",
      "x=10\n",
      "x=20\n",
      "x=30\n",
      "x=40\n",
      "x=50\n"
     ]
    }
   ],
   "source": [
    "#while循环\n",
    "x=0\n",
    "while x<=100:\n",
    "    print(\"x={}\".format(x))\n",
    "    x+=20 #间隔20  \n",
    "print(\"_\"*50)   \n",
    "x=0\n",
    "while x<=100:\n",
    "    print(\"x={}\".format(x))\n",
    "    x+=10 \n",
    "    if x>50:break#如果大于50，就停止\n",
    "\n"
   ]
  },
  {
   "cell_type": "code",
   "execution_count": 17,
   "id": "f0131543-0cd6-41ba-8202-23b3a5357e92",
   "metadata": {},
   "outputs": [
    {
     "name": "stdout",
     "output_type": "stream",
     "text": [
      "lst_1=[11, 16, 21, 26]\n",
      "__________________________________________________\n",
      "11\n",
      "16\n",
      "21\n",
      "26\n",
      "for i in range(len(lst_1)):\n",
      "idx=0，val=11\n",
      "idx=1，val=16\n",
      "idx=2，val=21\n",
      "idx=3，val=26\n",
      "__________________________________________________\n",
      "dic_4={'a': 1, 'b': 3, 'c': 5, 'd': 7}\n",
      "__________________________________________________\n",
      "for k in dic_4:\n",
      "a\n",
      "b\n",
      "c\n",
      "d\n",
      "for k,v in dic_4.items():\n",
      "key=a,val=1\n",
      "key=b,val=3\n",
      "key=c,val=5\n",
      "key=d,val=7\n",
      "__________________________________________________\n"
     ]
    }
   ],
   "source": [
    "#for循环\n",
    "lst_1=list(range(11,30,5))#range可以生成一个数据集合列表，range（起始，结束，步长）且不包括结束的数字（开区间）\n",
    "print(\"lst_1={}\".format(lst_1))#打印所有的数\n",
    "print(\"_\"*50)#分割\n",
    "for i in lst_1:#依次打印lst_1\n",
    "    print(i)\n",
    "print(\"for i in range(len(lst_1)):\")\n",
    "for i in range(len(lst_1)):\n",
    "    print(\"idx={}，val={}\".format(i,lst_1[i]))\n",
    "print(\"_\"*50)\n",
    "dic_4=dict(a=1,b=3,c=5,d=7)\n",
    "print(\"dic_4={}\".format(dic_4))\n",
    "print(\"_\"*50)\n",
    "print(\"for k in dic_4:\")\n",
    "for k in dic_4:\n",
    "    print(k)\n",
    "print(\"for k,v in dic_4.items():\")\n",
    "for k,v in dic_4.items():\n",
    "    print(\"key={},val={}\".format(k,v))#打印key和value  \n",
    "print(\"_\"*50)"
   ]
  },
  {
   "cell_type": "code",
   "execution_count": 18,
   "id": "44e2419a-caa7-4afe-9619-f75d7e3633cf",
   "metadata": {},
   "outputs": [
    {
     "name": "stdout",
     "output_type": "stream",
     "text": [
      "5040\n",
      "__________________________________________________\n"
     ]
    }
   ],
   "source": [
    "#递归   \n",
    "def factorial(n):\n",
    "    if n==1:\n",
    "        return 1\n",
    "    else:\n",
    "        return n*factorial(n-1)#n*fac-1（7-1）\n",
    "print(factorial(7))#7*6*5*4*3*2*1\n",
    "print(\"_\"*50)"
   ]
  },
  {
   "cell_type": "code",
   "execution_count": null,
   "id": "882886c3-f8a3-4fdc-afca-4367df939890",
   "metadata": {},
   "outputs": [],
   "source": []
  }
 ],
 "metadata": {
  "kernelspec": {
   "display_name": "Python 3",
   "language": "python",
   "name": "python3"
  },
  "language_info": {
   "codemirror_mode": {
    "name": "ipython",
    "version": 3
   },
   "file_extension": ".py",
   "mimetype": "text/x-python",
   "name": "python",
   "nbconvert_exporter": "python",
   "pygments_lexer": "ipython3",
   "version": "3.8.8"
  }
 },
 "nbformat": 4,
 "nbformat_minor": 5
}

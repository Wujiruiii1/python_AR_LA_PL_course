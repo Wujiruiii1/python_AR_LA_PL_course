# -*- coding: utf-8 -*-
"""
Created on Fri Nov  5 20:20:19 2021

@author: Mrwww
"""

print('hello,python')#hello语句
print("_"*50)#分割线

#打印简单的运算
print("加：",3+3) 
print("减：",3-1)
print("乘：",3*3)
print("除：", 3/3)
print("整除：", 3//2)
print("余数：", 3%2)
print("幂：",3**3)#3次方
print(1+1)
1+1
print("_"*50)


#先定义变量，再使用
a=10
print(type(a))#有符号整数
a='xiaowu'
print(type(a))#字符串
a=12.45
print(type(a))#小数
a=True
print(type(a))#布尔运算，逻辑
a=()#元组类型tuple
print(type(a))
b=[]#列表类型list
print(type(b))
c={}#字典类型dict
print(type(c))
#变量命名规则
#必须以字母或下划线_(英文shift+-)开头，不能以数字开头
#其他字符可以是字母，数字或_
#区分大小写，python关键字不能用作变量名】
x=5
func=2*x+1
print(func)
print("_"*50)


#list
letters=['a','b','c','d','e','f','g']#创建列表，按字母顺序
print(len(letters))#打印列表长度
print(letters[2:5]) #从0开始数，打印2到5，但不包括5，用分号隔开
print(letters[1:4])
print(letters)#打印整个列表
print(letters[5])#开始数，打印第五个
letters[-1]=2020
print(letters)
print(letters[-1])
if'a'in letters:
    print("letters'a'is in the list")#如果a在这里面，打印这句话
print("_"*50)

#list分片
lst_s=list(map(chr,range(97,123)))
#map会根据给的函数映射，97到123为26个英文字母
#chr() 用一个范围在 range（256）内的（就是0～255）整数作参数，返回一个对应的字符。
print(lst_s)#打印26个字母
print("[1:2]->{}".format(lst_s[1:3]))
print("[-4:-1]->{}".format(lst_s[-4:-1]))#倒数第一个到倒数第四个
print("[-3:]->{}".format(lst_s[-3:]))#打印倒数三个
print("[:3]->{}".format(lst_s[:3]))#打印正数三个
print("[:]->{}".format(lst_s[:]))#打印全部字母
print("_"*50)
print("[0:10:2]->{}".format(lst_s[0:10:2]))#lst-s[a：b,s]a：b为索引，s为步长
print("_"*50)


#元组，不能更改，
tuple_1=2,3,5,
print("tuple_1=2,3,5,->{}".format(tuple_1))
print("3*(20*3,)->{}".format(3*(20*3,)))
print("tuple((5,8,9))->{}".format(tuple((5,8,9)))) #用()
print("tuple([5,8,9])->{}".format(tuple([5,8,9]))) #用[]
print("_"*50)

#字典
#dictionary={k=0:v=0,k=1:v_1,k=2:v_2...}
import random
items=[(0,[i for i in range(5)]),(1,[random.sample(list(range(1,20,1)),5)]),(2,'python')] #[i for i in range(5)] 为列表推导式 list comprehension/derivation
#5为打印个数
print("items->{}".format(items))
dic=dict(items)
print("dic=dict(items)->{}".format(dic))
print("dic[1]->{}".format(dic[1]))
print("_"*50)


lst_A=list(range(1,10,3))
lst_B=list(range(11,20,5))
print("lst_A={},lst_B={}".format(lst_A,lst_B))
dic_2={0:lst_A,1:lst_B}
print("dic_2={}".format(dic_2))
print("_"*50)
dic_assignment=dic_2
print("dic_assignment={}".format(dic_assignment))#连续嵌套
print("_"*50)

dic_2.clear()
print("dic_2.clear()->{}".format(dic_2))
print("dic_assignment={}".format(dic_assignment))
dic_2[5]=list(range(1,10,2))
print("dic_2[5]=list(range(1,9,2))->{}".format(dic_2))
dic_copy=dic_2.copy()
print("dic_copy=dic_2.copy()->{}".format(dic_copy))
dic_2[8]=[5,7]
print("dic_2[8]=[5,7]->{}".format(dic_2))
print("dic_copy={}".format(dic_copy))
dic_copy[5].remove(5)#删除值不在区间内就会报错
print("dic_copy[5].remove(5)->{}".format(dic_copy))
dic_copy.setdefault(6,[10,20]) #返回指定键的值，如果不存在该键，则字典增加新的键/值对
print("dic_copy.setdefault(6,[10,20])->{}".format(dic_copy))
print("_"*50)


#string，格式化字符串
format_str="方案,%s%s!"#%（转换符）s（类型），%d等
values=("做不","完了")
new_str=format_str % values
print("new_str=format_str % values->{}".format(new_str))
print("_"*50)

lst_s_3=list("Hello Python!")
a=list("方案做不完了")
print("lst_s_3=list(\"Hello Python!\")->{}".format(lst_s_3)) #"\" 逐个分开字符串
print("a=list(\"方案做不完了\")->{}".format(a))
print("_"*50)


#条件语句
#石头剪刀布游戏
import random#直接导入产生随机数模块
person=int(input('请出拳[1:石头,2:剪刀,3:布]'))
computer=random.randint(1,3)#表示在1，3之间随机生成数字
if person==1 and computer==2:
    print('you win')
    pass
elif person==2 and computer==3:
    print('you win')
    pass
elif person==3 and computer==1:
    print('you win')
    pass
elif person==computer:
    print('tie')
    pass
else:
    print('you lose')
print("_"*50)

#分数小游戏
x=int(input('请输入你的分数...'))#int为强制转化为数字类型，input为输入语句
if x>60:
    print('分数达标')
    pass#填空的语句
elif 0<x<=59:
    print('分数不及格')
    pass
else:
    print('分数及格啦')
print("_"*50) 


#while循环
x=0
while x<=100:
    print("x={}".format(x))
    x+=20 #间隔20  
print("_"*50)   
x=0
while x<=100:
    print("x={}".format(x))
    x+=10 
    if x>50:break#如果大于50，就停止
print("_"*50)

#for循环
lst_1=list(range(11,30,5))#range可以生成一个数据集合列表，range（起始，结束，步长）且不包括结束的数字（开区间）
print("lst_1={}".format(lst_1))#打印所有的数
print("_"*50)#分割
for i in lst_1:#依次打印lst_1
    print(i)
print("for i in range(len(lst_1)):")
for i in range(len(lst_1)):
    print("idx={}，val={}".format(i,lst_1[i]))
print("_"*50)
dic_4=dict(a=1,b=3,c=5,d=7)
print("dic_4={}".format(dic_4))
print("_"*50)
print("for k in dic_4:")
for k in dic_4:
    print(k)
print("for k,v in dic_4.items():")
for k,v in dic_4.items():
    print("key={},val={}".format(k,v))#打印key和value  
print("_"*50)


#递归   
def factorial(n):
    if n==1:
        return 1
    else:
        return n*factorial(n-1)#n*fac-1（7-1）
print(factorial(7))#7*6*5*4*3*2*1
print("_"*50)





















    